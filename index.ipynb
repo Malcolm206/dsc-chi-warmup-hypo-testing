{
 "cells": [
  {
   "cell_type": "markdown",
   "metadata": {},
   "source": [
    "# Z-test warmup!\n",
    "\n",
    "do you have what it takes\n",
    "\n",
    "## Imports"
   ]
  },
  {
   "cell_type": "code",
   "execution_count": 1,
   "metadata": {},
   "outputs": [],
   "source": [
    "#data manip\n",
    "import pandas as pd\n",
    "import numpy as np\n",
    "\n",
    "#data calc\n",
    "from scipy import stats\n",
    "\n",
    "#used for tests\n",
    "from test_background import pkl_dump, run_test_dict, run_test\n",
    "from test_background import load_test_dict as load"
   ]
  },
  {
   "cell_type": "markdown",
   "metadata": {},
   "source": [
    "#### Read in `data.csv` from `data` and print a random sample of five rows.  (Looking at a random sample of five rows instead of `df.head()` avoids the problem of getting an impression of a dataset that is sorted in some way)\n",
    "\n",
    "#### Does this dataset look familiar?  "
   ]
  },
  {
   "cell_type": "code",
   "execution_count": 2,
   "metadata": {},
   "outputs": [
    {
     "data": {
      "text/html": [
       "<div>\n",
       "<style scoped>\n",
       "    .dataframe tbody tr th:only-of-type {\n",
       "        vertical-align: middle;\n",
       "    }\n",
       "\n",
       "    .dataframe tbody tr th {\n",
       "        vertical-align: top;\n",
       "    }\n",
       "\n",
       "    .dataframe thead th {\n",
       "        text-align: right;\n",
       "    }\n",
       "</style>\n",
       "<table border=\"1\" class=\"dataframe\">\n",
       "  <thead>\n",
       "    <tr style=\"text-align: right;\">\n",
       "      <th></th>\n",
       "      <th>Unnamed: 0</th>\n",
       "      <th>department</th>\n",
       "      <th>last_name</th>\n",
       "      <th>first_name</th>\n",
       "      <th>job_title</th>\n",
       "      <th>hourly_rate</th>\n",
       "    </tr>\n",
       "  </thead>\n",
       "  <tbody>\n",
       "    <tr>\n",
       "      <th>5662</th>\n",
       "      <td>5662</td>\n",
       "      <td>Seattle City Light</td>\n",
       "      <td>Kavita</td>\n",
       "      <td>Sheenal</td>\n",
       "      <td>Accountant,Sr</td>\n",
       "      <td>44.24</td>\n",
       "    </tr>\n",
       "    <tr>\n",
       "      <th>167</th>\n",
       "      <td>167</td>\n",
       "      <td>Seattle City Light</td>\n",
       "      <td>Alexander</td>\n",
       "      <td>James</td>\n",
       "      <td>Line C CC</td>\n",
       "      <td>59.35</td>\n",
       "    </tr>\n",
       "    <tr>\n",
       "      <th>6602</th>\n",
       "      <td>6602</td>\n",
       "      <td>Seattle Dept of Transportation</td>\n",
       "      <td>Lovell</td>\n",
       "      <td>Briana</td>\n",
       "      <td>Manager3,Engrng&amp;Plans Rev</td>\n",
       "      <td>64.48</td>\n",
       "    </tr>\n",
       "    <tr>\n",
       "      <th>5540</th>\n",
       "      <td>5540</td>\n",
       "      <td>Parks &amp; Recreation</td>\n",
       "      <td>Jordan</td>\n",
       "      <td>Tiffany</td>\n",
       "      <td>Rec Cntr Coord,Asst</td>\n",
       "      <td>35.49</td>\n",
       "    </tr>\n",
       "    <tr>\n",
       "      <th>3426</th>\n",
       "      <td>3426</td>\n",
       "      <td>Seattle City Light</td>\n",
       "      <td>Fields</td>\n",
       "      <td>Phillip</td>\n",
       "      <td>Cust Svc Rep *</td>\n",
       "      <td>28.50</td>\n",
       "    </tr>\n",
       "  </tbody>\n",
       "</table>\n",
       "</div>"
      ],
      "text/plain": [
       "      Unnamed: 0                      department  last_name first_name  \\\n",
       "5662        5662              Seattle City Light     Kavita    Sheenal   \n",
       "167          167              Seattle City Light  Alexander      James   \n",
       "6602        6602  Seattle Dept of Transportation     Lovell     Briana   \n",
       "5540        5540              Parks & Recreation     Jordan    Tiffany   \n",
       "3426        3426              Seattle City Light     Fields    Phillip   \n",
       "\n",
       "                      job_title  hourly_rate  \n",
       "5662              Accountant,Sr        44.24  \n",
       "167                   Line C CC        59.35  \n",
       "6602  Manager3,Engrng&Plans Rev        64.48  \n",
       "5540        Rec Cntr Coord,Asst        35.49  \n",
       "3426             Cust Svc Rep *        28.50  "
      ]
     },
     "execution_count": 2,
     "metadata": {},
     "output_type": "execute_result"
    }
   ],
   "source": [
    "#your code here\n",
    "df = pd.read_csv('./data/data.csv')\n",
    "df.sample(5)"
   ]
  },
  {
   "cell_type": "markdown",
   "metadata": {},
   "source": [
    "![](viz/seattle.gif)\n",
    "\n",
    "#### For purposes of this problem, let's say we know this dataset represents the entirety of city employees from Seattle"
   ]
  },
  {
   "cell_type": "markdown",
   "metadata": {},
   "source": [
    "## The Problem\n",
    "\n",
    "### Is the `hourly_rate` of people whose last name begins with 'B' significantly different than the `hourly_rate` of the Seattle employees as a whole?\n",
    "\n",
    "#### Let's mimic a data analysis scenario where we have aggregated info about:\n",
    "\n",
    "- the mean of `hourly_rate` for all Seattle employees\n",
    "\n",
    "- the std of `hourly_rate` for same\n",
    "\n",
    "but we have to sample to find more-granular data about people whose last name begins with 'B'\n",
    "\n",
    "---\n",
    "\n",
    "### Hypothesis Generation\n",
    "\n",
    "What are the null and alternative hypotheses?"
   ]
  },
  {
   "cell_type": "code",
   "execution_count": 3,
   "metadata": {},
   "outputs": [],
   "source": [
    "#your answer here\n",
    "# Null: The average hourly rate of Seattle employees whose last name begins with 'B' is no different than the \n",
    "# average hourly rate of all Seattle employees\n",
    "# Alt: The employees with last names beginning with 'B' have a significantly different hourly rate than the \n",
    "# average Seattle employee"
   ]
  },
  {
   "cell_type": "markdown",
   "metadata": {},
   "source": [
    "### Confidence Level Selection\n",
    "\n",
    "#### Provide the following answers about the next steps of our analysis\n",
    "\n",
    "- What is our test statistic?  (IOW: we are going to make a calculation and see how \"extreme\" that calculation is.  What specific calculation are we going to make?)  \n",
    "\n",
    "- Why are we using *this* statistic as opposed to a different one?\n",
    "\n",
    "- Are we running an upper, lower, or two-sided test?  Why? "
   ]
  },
  {
   "cell_type": "code",
   "execution_count": 4,
   "metadata": {},
   "outputs": [],
   "source": [
    "# your code here\n",
    "# test statistic is mean hourly rate\n",
    "# our hypothesis is based on hourly rate, not another like job title\n",
    "# We are running a two-sided test because we are looking if the hourly rates are significantly diffirent, not\n",
    "# greater or lesser than average."
   ]
  },
  {
   "cell_type": "markdown",
   "metadata": {},
   "source": [
    "#### We'll use an alpha of .05 as the cutoff for significance\n",
    "\n",
    "#### Using that value of alpha, what is the value of the critical test statistic(s) we will compare our calculated test statistic against?"
   ]
  },
  {
   "cell_type": "code",
   "execution_count": 18,
   "metadata": {},
   "outputs": [
    {
     "data": {
      "text/plain": [
       "(-1.9599639845400545, 1.959963984540054)"
      ]
     },
     "execution_count": 18,
     "metadata": {},
     "output_type": "execute_result"
    }
   ],
   "source": [
    "# your code here\n",
    "# 0.025\n",
    "stats.norm.ppf(0.025), stats.norm.ppf(1-0.025)"
   ]
  },
  {
   "cell_type": "markdown",
   "metadata": {},
   "source": [
    "#### Make the following calculations\n",
    "\n",
    "- Store a random sample of 100 employees whose last name starts with 'B' in the variable `b_last_sample`\n",
    "    - use `random_state=33` so that we all get the same 100 random employees\n",
    "\n",
    "\n",
    "- Store that sample's mean of `hourly_rate` as `b_last_sample_mean`\n",
    "\n",
    "\n",
    "- Store the sample size as `sample_size`\n",
    "    - use a calculation, don't hard code it\n",
    "\n",
    "- Store the population mean of `hourly_rate` as `pop_mean`\n",
    "\n",
    "- Store the population std of `hourly_rate` as `pop_std`"
   ]
  },
  {
   "cell_type": "code",
   "execution_count": 7,
   "metadata": {},
   "outputs": [
    {
     "data": {
      "text/plain": [
       "15.714622992377924"
      ]
     },
     "execution_count": 7,
     "metadata": {},
     "output_type": "execute_result"
    }
   ],
   "source": [
    "df.loc[df.last_name.str.startswith('B')]\n",
    "df.hourly_rate.std()"
   ]
  },
  {
   "cell_type": "code",
   "execution_count": 8,
   "metadata": {},
   "outputs": [
    {
     "name": "stdout",
     "output_type": "stream",
     "text": [
      "46.03184799999999\n",
      "45.30003560075764\n",
      "15.714622992377924\n"
     ]
    }
   ],
   "source": [
    "#you might create other variables than this, but these\n",
    "#are provided for your convenience \n",
    "\n",
    "b_last_sample = df.loc[df.last_name.str.startswith('B')].sample(100, random_state=33)\n",
    "\n",
    "b_last_sample_mean = b_last_sample.hourly_rate.mean()\n",
    "print(b_last_sample_mean)\n",
    "sample_size = 100\n",
    "\n",
    "pop_mean = df.hourly_rate.mean() \n",
    "print(pop_mean)\n",
    "pop_std = df.hourly_rate.std()\n",
    "print(pop_std)"
   ]
  },
  {
   "cell_type": "code",
   "execution_count": 9,
   "metadata": {},
   "outputs": [
    {
     "data": {
      "text/plain": [
       "'Hey, you did it.  Good job.'"
      ]
     },
     "execution_count": 9,
     "metadata": {},
     "output_type": "execute_result"
    }
   ],
   "source": [
    "#run this cell to check b_last_sample\n",
    "run_test(b_last_sample, 'b_last_sample')"
   ]
  },
  {
   "cell_type": "code",
   "execution_count": 10,
   "metadata": {},
   "outputs": [
    {
     "data": {
      "text/plain": [
       "'Try again'"
      ]
     },
     "execution_count": 10,
     "metadata": {},
     "output_type": "execute_result"
    }
   ],
   "source": [
    "#run this cell to check b_last_sample_mean\n",
    "run_test(b_last_sample_mean, 'b_last_sample_mean')"
   ]
  },
  {
   "cell_type": "code",
   "execution_count": 11,
   "metadata": {},
   "outputs": [
    {
     "data": {
      "text/plain": [
       "'Try again'"
      ]
     },
     "execution_count": 11,
     "metadata": {},
     "output_type": "execute_result"
    }
   ],
   "source": [
    "#run this cell to check pop_mean\n",
    "run_test(pop_mean, 'pop_mean')"
   ]
  },
  {
   "cell_type": "code",
   "execution_count": 12,
   "metadata": {},
   "outputs": [
    {
     "data": {
      "text/plain": [
       "'Try again'"
      ]
     },
     "execution_count": 12,
     "metadata": {},
     "output_type": "execute_result"
    }
   ],
   "source": [
    "#run this cell to check pop_std\n",
    "run_test(pop_std, 'pop_std')"
   ]
  },
  {
   "cell_type": "code",
   "execution_count": 13,
   "metadata": {},
   "outputs": [
    {
     "data": {
      "text/plain": [
       "'Hey, you did it.  Good job.'"
      ]
     },
     "execution_count": 13,
     "metadata": {},
     "output_type": "execute_result"
    }
   ],
   "source": [
    "#run this cell to check sample_size\n",
    "run_test(sample_size, 'sample_size')"
   ]
  },
  {
   "cell_type": "markdown",
   "metadata": {},
   "source": [
    "### Test statistic calculation\n",
    "\n",
    "- Calculate the specific test statistic you determined was appropriate above\n",
    "\n",
    "- Store it as `test_stat`"
   ]
  },
  {
   "cell_type": "code",
   "execution_count": 14,
   "metadata": {},
   "outputs": [
    {
     "data": {
      "text/plain": [
       "0.4656888043685823"
      ]
     },
     "execution_count": 14,
     "metadata": {},
     "output_type": "execute_result"
    }
   ],
   "source": [
    "#your code here\n",
    "test_stat = (b_last_sample_mean - pop_mean) / (pop_std/ np.sqrt(sample_size))\n",
    "test_stat"
   ]
  },
  {
   "cell_type": "code",
   "execution_count": 15,
   "metadata": {},
   "outputs": [
    {
     "data": {
      "text/plain": [
       "'Try again'"
      ]
     },
     "execution_count": 15,
     "metadata": {},
     "output_type": "execute_result"
    }
   ],
   "source": [
    "#run this cell to check test_stat\n",
    "run_test(test_stat, 'test_stat')"
   ]
  },
  {
   "cell_type": "markdown",
   "metadata": {},
   "source": [
    "## The MOMENT OF TRUTH\n",
    "\n",
    "#### Do we have evidence indicating we should reject the null hypothesis at alpha=.05?  Why or why not?\n",
    "\n",
    "#### Your final sentence should write out your full conclusion w/o referencing \"null hypothesis\""
   ]
  },
  {
   "cell_type": "code",
   "execution_count": null,
   "metadata": {},
   "outputs": [],
   "source": [
    "'''# your answer here'''"
   ]
  },
  {
   "cell_type": "code",
   "execution_count": null,
   "metadata": {},
   "outputs": [],
   "source": []
  }
 ],
 "metadata": {
  "kernelspec": {
   "display_name": "Python 3",
   "language": "python",
   "name": "python3"
  },
  "language_info": {
   "codemirror_mode": {
    "name": "ipython",
    "version": 3
   },
   "file_extension": ".py",
   "mimetype": "text/x-python",
   "name": "python",
   "nbconvert_exporter": "python",
   "pygments_lexer": "ipython3",
   "version": "3.6.9"
  },
  "toc": {
   "base_numbering": 1,
   "nav_menu": {},
   "number_sections": false,
   "sideBar": true,
   "skip_h1_title": true,
   "title_cell": "Table of Contents",
   "title_sidebar": "Contents",
   "toc_cell": false,
   "toc_position": {},
   "toc_section_display": true,
   "toc_window_display": false
  },
  "varInspector": {
   "cols": {
    "lenName": 16,
    "lenType": 16,
    "lenVar": 40
   },
   "kernels_config": {
    "python": {
     "delete_cmd_postfix": "",
     "delete_cmd_prefix": "del ",
     "library": "var_list.py",
     "varRefreshCmd": "print(var_dic_list())"
    },
    "r": {
     "delete_cmd_postfix": ") ",
     "delete_cmd_prefix": "rm(",
     "library": "var_list.r",
     "varRefreshCmd": "cat(var_dic_list()) "
    }
   },
   "types_to_exclude": [
    "module",
    "function",
    "builtin_function_or_method",
    "instance",
    "_Feature"
   ],
   "window_display": false
  }
 },
 "nbformat": 4,
 "nbformat_minor": 4
}
